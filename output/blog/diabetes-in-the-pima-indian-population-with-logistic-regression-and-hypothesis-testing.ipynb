{
 "cells": [
  {
   "cell_type": "code",
   "execution_count": 1,
   "metadata": {},
   "outputs": [],
   "source": [
    "import pymc3 as pm\n",
    "import numpy as np\n",
    "import pandas as pd\n",
    "import theano.tensor as tt\n",
    "from sklearn import preprocessing\n",
    "from sklearn.model_selection import train_test_split\n",
    "import theano\n",
    "import matplotlib.pyplot as plt"
   ]
  },
  {
   "cell_type": "markdown",
   "metadata": {},
   "source": [
    "This data set explores diabetes in the pima indian population. The features included are the number of times pregnant, glucose concentration, blood pressure, insulin level, BMI, pedigree and age. The feature 'group' is a faux feature and is not included in the set."
   ]
  },
  {
   "cell_type": "code",
   "execution_count": 2,
   "metadata": {},
   "outputs": [
    {
     "data": {
      "text/html": [
       "<div>\n",
       "<style scoped>\n",
       "    .dataframe tbody tr th:only-of-type {\n",
       "        vertical-align: middle;\n",
       "    }\n",
       "\n",
       "    .dataframe tbody tr th {\n",
       "        vertical-align: top;\n",
       "    }\n",
       "\n",
       "    .dataframe thead th {\n",
       "        text-align: right;\n",
       "    }\n",
       "</style>\n",
       "<table border=\"1\" class=\"dataframe\">\n",
       "  <thead>\n",
       "    <tr style=\"text-align: right;\">\n",
       "      <th></th>\n",
       "      <th>Number_pregnant</th>\n",
       "      <th>Glucose_concentration</th>\n",
       "      <th>Blood_pressure</th>\n",
       "      <th>Triceps</th>\n",
       "      <th>Insulin</th>\n",
       "      <th>BMI</th>\n",
       "      <th>Pedigree</th>\n",
       "      <th>Age</th>\n",
       "    </tr>\n",
       "  </thead>\n",
       "  <tbody>\n",
       "    <tr>\n",
       "      <th>0</th>\n",
       "      <td>6</td>\n",
       "      <td>0.743719</td>\n",
       "      <td>0.590164</td>\n",
       "      <td>0.353535</td>\n",
       "      <td>0.000000</td>\n",
       "      <td>0.500745</td>\n",
       "      <td>0.234415</td>\n",
       "      <td>50</td>\n",
       "    </tr>\n",
       "    <tr>\n",
       "      <th>1</th>\n",
       "      <td>1</td>\n",
       "      <td>0.427136</td>\n",
       "      <td>0.540984</td>\n",
       "      <td>0.292929</td>\n",
       "      <td>0.000000</td>\n",
       "      <td>0.396423</td>\n",
       "      <td>0.116567</td>\n",
       "      <td>31</td>\n",
       "    </tr>\n",
       "    <tr>\n",
       "      <th>2</th>\n",
       "      <td>8</td>\n",
       "      <td>0.919598</td>\n",
       "      <td>0.524590</td>\n",
       "      <td>0.000000</td>\n",
       "      <td>0.000000</td>\n",
       "      <td>0.347243</td>\n",
       "      <td>0.253629</td>\n",
       "      <td>32</td>\n",
       "    </tr>\n",
       "    <tr>\n",
       "      <th>3</th>\n",
       "      <td>1</td>\n",
       "      <td>0.447236</td>\n",
       "      <td>0.540984</td>\n",
       "      <td>0.232323</td>\n",
       "      <td>0.111111</td>\n",
       "      <td>0.418778</td>\n",
       "      <td>0.038002</td>\n",
       "      <td>21</td>\n",
       "    </tr>\n",
       "    <tr>\n",
       "      <th>4</th>\n",
       "      <td>0</td>\n",
       "      <td>0.688442</td>\n",
       "      <td>0.327869</td>\n",
       "      <td>0.353535</td>\n",
       "      <td>0.198582</td>\n",
       "      <td>0.642325</td>\n",
       "      <td>0.943638</td>\n",
       "      <td>33</td>\n",
       "    </tr>\n",
       "    <tr>\n",
       "      <th>5</th>\n",
       "      <td>5</td>\n",
       "      <td>0.582915</td>\n",
       "      <td>0.606557</td>\n",
       "      <td>0.000000</td>\n",
       "      <td>0.000000</td>\n",
       "      <td>0.381520</td>\n",
       "      <td>0.052519</td>\n",
       "      <td>30</td>\n",
       "    </tr>\n",
       "    <tr>\n",
       "      <th>6</th>\n",
       "      <td>3</td>\n",
       "      <td>0.391960</td>\n",
       "      <td>0.409836</td>\n",
       "      <td>0.323232</td>\n",
       "      <td>0.104019</td>\n",
       "      <td>0.461997</td>\n",
       "      <td>0.072588</td>\n",
       "      <td>26</td>\n",
       "    </tr>\n",
       "  </tbody>\n",
       "</table>\n",
       "</div>"
      ],
      "text/plain": [
       "   Number_pregnant  Glucose_concentration  Blood_pressure   Triceps   Insulin  \\\n",
       "0                6               0.743719        0.590164  0.353535  0.000000   \n",
       "1                1               0.427136        0.540984  0.292929  0.000000   \n",
       "2                8               0.919598        0.524590  0.000000  0.000000   \n",
       "3                1               0.447236        0.540984  0.232323  0.111111   \n",
       "4                0               0.688442        0.327869  0.353535  0.198582   \n",
       "5                5               0.582915        0.606557  0.000000  0.000000   \n",
       "6                3               0.391960        0.409836  0.323232  0.104019   \n",
       "\n",
       "        BMI  Pedigree  Age  \n",
       "0  0.500745  0.234415   50  \n",
       "1  0.396423  0.116567   31  \n",
       "2  0.347243  0.253629   32  \n",
       "3  0.418778  0.038002   21  \n",
       "4  0.642325  0.943638   33  \n",
       "5  0.381520  0.052519   30  \n",
       "6  0.461997  0.072588   26  "
      ]
     },
     "execution_count": 2,
     "metadata": {},
     "output_type": "execute_result"
    }
   ],
   "source": [
    "#Read data using pandas and drop the 'group' feature\n",
    "DiabetesData = pd.read_csv(\"pima-indians-diabetes.csv\")\n",
    "DiabetesData = DiabetesData.drop(['Group'], axis = 1)\n",
    "#DiabetesData = DiabetesData.drop(['Triceps'], axis = 1)\n",
    "#Output the yes/no value of diabetes diagnosis\n",
    "y = DiabetesData['Class'].values\n",
    "DiabetesData = DiabetesData.drop(['Class'], axis = 1)\n",
    "\n",
    "#Get the features and since we are using linear regression, we scale the numerical features so one doesn't overpower the\n",
    "#others\n",
    "x = DiabetesData.values \n",
    "min_max_scaler = preprocessing.MinMaxScaler()\n",
    "x = min_max_scaler.fit_transform(x)\n",
    "\n",
    "DiabetesData.head(7)"
   ]
  },
  {
   "cell_type": "code",
   "execution_count": 3,
   "metadata": {},
   "outputs": [
    {
     "name": "stdout",
     "output_type": "stream",
     "text": [
      "Number of features:  8\n",
      "Number of data points:  768\n",
      "Number of training data points:  614\n",
      "Number of test data points:  154\n"
     ]
    }
   ],
   "source": [
    "#Splitting into training and testing sets\n",
    "NumberOfFeatures = x.shape[1]\n",
    "print (\"Number of features: \", NumberOfFeatures)\n",
    "print (\"Number of data points: \", x.shape[0])\n",
    "\n",
    "X_train, X_test, y_train, y_test = train_test_split(x, y, test_size=0.20, random_state=42)\n",
    "print (\"Number of training data points: \", X_train.shape[0])\n",
    "print (\"Number of test data points: \", X_test.shape[0])"
   ]
  },
  {
   "cell_type": "code",
   "execution_count": 4,
   "metadata": {},
   "outputs": [
    {
     "name": "stdout",
     "output_type": "stream",
     "text": [
      "Number of training data points:  768\n"
     ]
    }
   ],
   "source": [
    "NumberOfPoints = x.shape[0]\n",
    "print (\"Number of training data points: \", NumberOfPoints)\n",
    "X_ = theano.shared(X_train)\n",
    "Y_ = theano.shared(y_train)"
   ]
  },
  {
   "cell_type": "code",
   "execution_count": 5,
   "metadata": {},
   "outputs": [],
   "source": [
    "#We now construct our linear model\n",
    "def ConstructModel(X, Y, NoF, NoP):\n",
    "    print (\"Number of features: \", NoF)\n",
    "    print (\"Number of data points: \", NoP)\n",
    "    print (\"x shape: \", X.eval().shape)\n",
    "    print (\"y shape: \", Y.eval().shape)\n",
    "    \n",
    "    with pm.Model() as DiabetesModel:\n",
    "        #We use normal priors for the intercept and slopes. The combination of which results in the log odds\n",
    "        Slope = pm.Normal('Slope', mu=1., sd=10., shape = (NoF))\n",
    "        Intercept = pm.Normal('Intercept', mu=1., sd=10)\n",
    "\n",
    "        LogOdds = tt.dot(X, Slope) + Intercept \n",
    "        \n",
    "        #This is the Bernoulli probability with the logistic function\n",
    "        Prob = pm.Deterministic(\"p\", 1./(1+tt.exp(-LogOdds)))\n",
    "\n",
    "        #The likelihood is the Bernoulli likelihood with the above probabilities and the observed diabetes diagnosis\n",
    "        Output = pm.Bernoulli(\"Prob\", p = Prob, observed = Y)\n",
    "    return DiabetesModel"
   ]
  },
  {
   "cell_type": "code",
   "execution_count": 6,
   "metadata": {},
   "outputs": [
    {
     "name": "stdout",
     "output_type": "stream",
     "text": [
      "Number of features:  8\n",
      "Number of data points:  768\n",
      "x shape:  (614, 8)\n",
      "y shape:  (614,)\n"
     ]
    }
   ],
   "source": [
    "#Constructing the model\n",
    "DiabetesModel = ConstructModel(X_, Y_, NumberOfFeatures, NumberOfPoints)"
   ]
  },
  {
   "cell_type": "code",
   "execution_count": 7,
   "metadata": {},
   "outputs": [
    {
     "name": "stderr",
     "output_type": "stream",
     "text": [
      "Auto-assigning NUTS sampler...\n",
      "Initializing NUTS using jitter+adapt_diag...\n",
      "Multiprocess sampling (2 chains in 2 jobs)\n",
      "NUTS: [Intercept, Slope]\n",
      "100%|██████████| 10500/10500 [01:28<00:00, 118.70it/s]\n",
      "The chain reached the maximum tree depth. Increase max_treedepth, increase target_accept or reparameterize.\n",
      "The chain reached the maximum tree depth. Increase max_treedepth, increase target_accept or reparameterize.\n"
     ]
    }
   ],
   "source": [
    "#We next sample the model using the No-U-Turn sampler(NUTS)\n",
    "with DiabetesModel:\n",
    "    trace = pm.sample(10000, cores = 4)"
   ]
  },
  {
   "cell_type": "code",
   "execution_count": 8,
   "metadata": {},
   "outputs": [
    {
     "data": {
      "text/plain": [
       "Text(0.5,1,'BFMI = 1.0492313884478486\\nGelman-Rubin = 1.0001203589584051')"
      ]
     },
     "execution_count": 8,
     "metadata": {},
     "output_type": "execute_result"
    },
    {
     "data": {
      "image/png": "[encoded data removed]",
      "text/plain": [
       "<matplotlib.figure.Figure at 0x12203d588>"
      ]
     },
     "metadata": {},
     "output_type": "display_data"
    }
   ],
   "source": [
    "#We want the Gelmin-Rubin statistic to be close to one to indicate convergence. The Bayesian fraction of missing\n",
    "#information(BMFI) should be above 0.2.\n",
    "bfmi = pm.bfmi(trace)\n",
    "max_gr = max(np.max(gr_stats) for gr_stats in pm.gelman_rubin(trace).values())\n",
    "(pm.energyplot(trace, legend=False, figsize=(6, 4))\n",
    "   .set_title(\"BFMI = {}\\nGelman-Rubin = {}\".format(bfmi, max_gr)))"
   ]
  },
  {
   "cell_type": "code",
   "execution_count": 9,
   "metadata": {},
   "outputs": [
    {
     "data": {
      "text/html": [
       "<div>\n",
       "<style scoped>\n",
       "    .dataframe tbody tr th:only-of-type {\n",
       "        vertical-align: middle;\n",
       "    }\n",
       "\n",
       "    .dataframe tbody tr th {\n",
       "        vertical-align: top;\n",
       "    }\n",
       "\n",
       "    .dataframe thead th {\n",
       "        text-align: right;\n",
       "    }\n",
       "</style>\n",
       "<table border=\"1\" class=\"dataframe\">\n",
       "  <thead>\n",
       "    <tr style=\"text-align: right;\">\n",
       "      <th></th>\n",
       "      <th>mean</th>\n",
       "      <th>sd</th>\n",
       "      <th>mc_error</th>\n",
       "      <th>hpd_2.5</th>\n",
       "      <th>hpd_97.5</th>\n",
       "      <th>n_eff</th>\n",
       "      <th>Rhat</th>\n",
       "    </tr>\n",
       "  </thead>\n",
       "  <tbody>\n",
       "    <tr>\n",
       "      <th>Slope__0</th>\n",
       "      <td>1.101842</td>\n",
       "      <td>0.620563</td>\n",
       "      <td>0.004306</td>\n",
       "      <td>-0.134765</td>\n",
       "      <td>2.301121</td>\n",
       "      <td>18404.0</td>\n",
       "      <td>0.999980</td>\n",
       "    </tr>\n",
       "    <tr>\n",
       "      <th>Slope__1</th>\n",
       "      <td>6.847379</td>\n",
       "      <td>0.838392</td>\n",
       "      <td>0.006196</td>\n",
       "      <td>5.197546</td>\n",
       "      <td>8.497030</td>\n",
       "      <td>14516.0</td>\n",
       "      <td>0.999989</td>\n",
       "    </tr>\n",
       "    <tr>\n",
       "      <th>Slope__2</th>\n",
       "      <td>-1.717948</td>\n",
       "      <td>0.761382</td>\n",
       "      <td>0.005244</td>\n",
       "      <td>-3.223668</td>\n",
       "      <td>-0.266379</td>\n",
       "      <td>20000.0</td>\n",
       "      <td>0.999959</td>\n",
       "    </tr>\n",
       "    <tr>\n",
       "      <th>Slope__3</th>\n",
       "      <td>0.311976</td>\n",
       "      <td>0.776704</td>\n",
       "      <td>0.006381</td>\n",
       "      <td>-1.207402</td>\n",
       "      <td>1.799551</td>\n",
       "      <td>14706.0</td>\n",
       "      <td>0.999995</td>\n",
       "    </tr>\n",
       "    <tr>\n",
       "      <th>Slope__4</th>\n",
       "      <td>-1.509237</td>\n",
       "      <td>0.862940</td>\n",
       "      <td>0.007000</td>\n",
       "      <td>-3.217436</td>\n",
       "      <td>0.155663</td>\n",
       "      <td>13358.0</td>\n",
       "      <td>1.000013</td>\n",
       "    </tr>\n",
       "    <tr>\n",
       "      <th>Slope__5</th>\n",
       "      <td>6.905164</td>\n",
       "      <td>1.141415</td>\n",
       "      <td>0.009700</td>\n",
       "      <td>4.667328</td>\n",
       "      <td>9.121687</td>\n",
       "      <td>15018.0</td>\n",
       "      <td>0.999989</td>\n",
       "    </tr>\n",
       "    <tr>\n",
       "      <th>Slope__6</th>\n",
       "      <td>1.657477</td>\n",
       "      <td>0.774573</td>\n",
       "      <td>0.004264</td>\n",
       "      <td>0.148841</td>\n",
       "      <td>3.164588</td>\n",
       "      <td>20000.0</td>\n",
       "      <td>0.999951</td>\n",
       "    </tr>\n",
       "    <tr>\n",
       "      <th>Slope__7</th>\n",
       "      <td>2.257975</td>\n",
       "      <td>0.661000</td>\n",
       "      <td>0.005102</td>\n",
       "      <td>0.947082</td>\n",
       "      <td>3.542124</td>\n",
       "      <td>16358.0</td>\n",
       "      <td>0.999954</td>\n",
       "    </tr>\n",
       "    <tr>\n",
       "      <th>Intercept</th>\n",
       "      <td>-8.257509</td>\n",
       "      <td>0.783928</td>\n",
       "      <td>0.006429</td>\n",
       "      <td>-9.785137</td>\n",
       "      <td>-6.715547</td>\n",
       "      <td>12904.0</td>\n",
       "      <td>1.000036</td>\n",
       "    </tr>\n",
       "  </tbody>\n",
       "</table>\n",
       "</div>"
      ],
      "text/plain": [
       "               mean        sd  mc_error   hpd_2.5  hpd_97.5    n_eff      Rhat\n",
       "Slope__0   1.101842  0.620563  0.004306 -0.134765  2.301121  18404.0  0.999980\n",
       "Slope__1   6.847379  0.838392  0.006196  5.197546  8.497030  14516.0  0.999989\n",
       "Slope__2  -1.717948  0.761382  0.005244 -3.223668 -0.266379  20000.0  0.999959\n",
       "Slope__3   0.311976  0.776704  0.006381 -1.207402  1.799551  14706.0  0.999995\n",
       "Slope__4  -1.509237  0.862940  0.007000 -3.217436  0.155663  13358.0  1.000013\n",
       "Slope__5   6.905164  1.141415  0.009700  4.667328  9.121687  15018.0  0.999989\n",
       "Slope__6   1.657477  0.774573  0.004264  0.148841  3.164588  20000.0  0.999951\n",
       "Slope__7   2.257975  0.661000  0.005102  0.947082  3.542124  16358.0  0.999954\n",
       "Intercept -8.257509  0.783928  0.006429 -9.785137 -6.715547  12904.0  1.000036"
      ]
     },
     "execution_count": 9,
     "metadata": {},
     "output_type": "execute_result"
    }
   ],
   "source": [
    "#Shows the mean values and uncertainties of the stochastic variables\n",
    "pm.summary(trace, varnames = ['Slope', 'Intercept'])"
   ]
  },
  {
   "cell_type": "code",
   "execution_count": 10,
   "metadata": {},
   "outputs": [
    {
     "data": {
      "text/plain": [
       "array([[<matplotlib.axes._subplots.AxesSubplot object at 0x122609c50>,\n",
       "        <matplotlib.axes._subplots.AxesSubplot object at 0x1224b2ef0>],\n",
       "       [<matplotlib.axes._subplots.AxesSubplot object at 0x1224e1a58>,\n",
       "        <matplotlib.axes._subplots.AxesSubplot object at 0x122515a90>]], dtype=object)"
      ]
     },
     "execution_count": 10,
     "metadata": {},
     "output_type": "execute_result"
    },
    {
     "data": {
      "image/png": "[encoded data removed]",
      "text/plain": [
       "<matplotlib.figure.Figure at 0x122609588>"
      ]
     },
     "metadata": {},
     "output_type": "display_data"
    }
   ],
   "source": [
    "#Graphical visual of above information\n",
    "pm.traceplot(trace, varnames = ['Slope', 'Intercept'])"
   ]
  },
  {
   "cell_type": "code",
   "execution_count": 11,
   "metadata": {},
   "outputs": [
    {
     "data": {
      "text/plain": [
       "<matplotlib.gridspec.GridSpec at 0x122f758d0>"
      ]
     },
     "execution_count": 11,
     "metadata": {},
     "output_type": "execute_result"
    },
    {
     "data": {
      "image/png": "[encoded data removed]",
      "text/plain": [
       "<matplotlib.figure.Figure at 0x122f75cc0>"
      ]
     },
     "metadata": {},
     "output_type": "display_data"
    }
   ],
   "source": [
    "#This shows the 95% credible intervals of each parameter. We see that zero is within the 95% credible interval of the \n",
    "#triceps feature showing that this feature might not be relevant. We will test this later.\n",
    "\n",
    "pm.forestplot(trace, varnames = ['Slope', 'Intercept'])"
   ]
  },
  {
   "cell_type": "code",
   "execution_count": 12,
   "metadata": {},
   "outputs": [
    {
     "name": "stdout",
     "output_type": "stream",
     "text": [
      "Accuracy = 79.22077922077922%\n"
     ]
    }
   ],
   "source": [
    "#Lets now calculate the accuracy on the test set.\n",
    "Slope_Samples = trace['Slope'].T\n",
    "Intercept_Samples = trace['Intercept'].T\n",
    "Mean = tt.dot(X_test, Slope_Samples) + Intercept_Samples\n",
    "Probabilities = 1./(1+tt.exp(-Mean))\n",
    "MeanProbabilities = np.mean(Probabilities.eval(), axis = 1)\n",
    "Pred = MeanProbabilities > 0.65\n",
    "\n",
    "print('Accuracy = {}%'.format((y_test == Pred).mean() * 100))   \n",
    "#Not bad!"
   ]
  },
  {
   "cell_type": "markdown",
   "metadata": {},
   "source": [
    "Now let's test if the triceps feature is relevant. Do do this we construct a different model without this feature:"
   ]
  },
  {
   "cell_type": "code",
   "execution_count": 13,
   "metadata": {},
   "outputs": [
    {
     "data": {
      "text/html": [
       "<div>\n",
       "<style scoped>\n",
       "    .dataframe tbody tr th:only-of-type {\n",
       "        vertical-align: middle;\n",
       "    }\n",
       "\n",
       "    .dataframe tbody tr th {\n",
       "        vertical-align: top;\n",
       "    }\n",
       "\n",
       "    .dataframe thead th {\n",
       "        text-align: right;\n",
       "    }\n",
       "</style>\n",
       "<table border=\"1\" class=\"dataframe\">\n",
       "  <thead>\n",
       "    <tr style=\"text-align: right;\">\n",
       "      <th></th>\n",
       "      <th>Number_pregnant</th>\n",
       "      <th>Glucose_concentration</th>\n",
       "      <th>Blood_pressure</th>\n",
       "      <th>Insulin</th>\n",
       "      <th>BMI</th>\n",
       "      <th>Pedigree</th>\n",
       "      <th>Age</th>\n",
       "    </tr>\n",
       "  </thead>\n",
       "  <tbody>\n",
       "    <tr>\n",
       "      <th>0</th>\n",
       "      <td>6</td>\n",
       "      <td>0.743719</td>\n",
       "      <td>0.590164</td>\n",
       "      <td>0.000000</td>\n",
       "      <td>0.500745</td>\n",
       "      <td>0.234415</td>\n",
       "      <td>50</td>\n",
       "    </tr>\n",
       "    <tr>\n",
       "      <th>1</th>\n",
       "      <td>1</td>\n",
       "      <td>0.427136</td>\n",
       "      <td>0.540984</td>\n",
       "      <td>0.000000</td>\n",
       "      <td>0.396423</td>\n",
       "      <td>0.116567</td>\n",
       "      <td>31</td>\n",
       "    </tr>\n",
       "    <tr>\n",
       "      <th>2</th>\n",
       "      <td>8</td>\n",
       "      <td>0.919598</td>\n",
       "      <td>0.524590</td>\n",
       "      <td>0.000000</td>\n",
       "      <td>0.347243</td>\n",
       "      <td>0.253629</td>\n",
       "      <td>32</td>\n",
       "    </tr>\n",
       "    <tr>\n",
       "      <th>3</th>\n",
       "      <td>1</td>\n",
       "      <td>0.447236</td>\n",
       "      <td>0.540984</td>\n",
       "      <td>0.111111</td>\n",
       "      <td>0.418778</td>\n",
       "      <td>0.038002</td>\n",
       "      <td>21</td>\n",
       "    </tr>\n",
       "    <tr>\n",
       "      <th>4</th>\n",
       "      <td>0</td>\n",
       "      <td>0.688442</td>\n",
       "      <td>0.327869</td>\n",
       "      <td>0.198582</td>\n",
       "      <td>0.642325</td>\n",
       "      <td>0.943638</td>\n",
       "      <td>33</td>\n",
       "    </tr>\n",
       "    <tr>\n",
       "      <th>5</th>\n",
       "      <td>5</td>\n",
       "      <td>0.582915</td>\n",
       "      <td>0.606557</td>\n",
       "      <td>0.000000</td>\n",
       "      <td>0.381520</td>\n",
       "      <td>0.052519</td>\n",
       "      <td>30</td>\n",
       "    </tr>\n",
       "    <tr>\n",
       "      <th>6</th>\n",
       "      <td>3</td>\n",
       "      <td>0.391960</td>\n",
       "      <td>0.409836</td>\n",
       "      <td>0.104019</td>\n",
       "      <td>0.461997</td>\n",
       "      <td>0.072588</td>\n",
       "      <td>26</td>\n",
       "    </tr>\n",
       "  </tbody>\n",
       "</table>\n",
       "</div>"
      ],
      "text/plain": [
       "   Number_pregnant  Glucose_concentration  Blood_pressure   Insulin       BMI  \\\n",
       "0                6               0.743719        0.590164  0.000000  0.500745   \n",
       "1                1               0.427136        0.540984  0.000000  0.396423   \n",
       "2                8               0.919598        0.524590  0.000000  0.347243   \n",
       "3                1               0.447236        0.540984  0.111111  0.418778   \n",
       "4                0               0.688442        0.327869  0.198582  0.642325   \n",
       "5                5               0.582915        0.606557  0.000000  0.381520   \n",
       "6                3               0.391960        0.409836  0.104019  0.461997   \n",
       "\n",
       "   Pedigree  Age  \n",
       "0  0.234415   50  \n",
       "1  0.116567   31  \n",
       "2  0.253629   32  \n",
       "3  0.038002   21  \n",
       "4  0.943638   33  \n",
       "5  0.052519   30  \n",
       "6  0.072588   26  "
      ]
     },
     "execution_count": 13,
     "metadata": {},
     "output_type": "execute_result"
    }
   ],
   "source": [
    "DiabetesData = DiabetesData.drop(['Triceps'], axis = 1)\n",
    "x = DiabetesData.values \n",
    "min_max_scaler = preprocessing.MinMaxScaler()\n",
    "x = min_max_scaler.fit_transform(x)\n",
    "\n",
    "DiabetesData.head(7)"
   ]
  },
  {
   "cell_type": "code",
   "execution_count": 14,
   "metadata": {},
   "outputs": [
    {
     "name": "stdout",
     "output_type": "stream",
     "text": [
      "Number of features:  7\n",
      "Number of data points:  768\n",
      "Number of training data points:  614\n",
      "Number of test data points:  154\n"
     ]
    }
   ],
   "source": [
    "#Splitting into training and testing sets\n",
    "NumberOfFeatures = x.shape[1]\n",
    "print (\"Number of features: \", NumberOfFeatures)\n",
    "print (\"Number of data points: \", x.shape[0])\n",
    "\n",
    "X_train, X_test, y_train, y_test = train_test_split(x, y, test_size=0.20, random_state=42)\n",
    "print (\"Number of training data points: \", X_train.shape[0])\n",
    "print (\"Number of test data points: \", X_test.shape[0])\n",
    "\n",
    "NumberOfPoints = X_train.shape[0]\n",
    "X_ = theano.shared(X_train)\n",
    "Y_ = theano.shared(y_train)"
   ]
  },
  {
   "cell_type": "code",
   "execution_count": 15,
   "metadata": {},
   "outputs": [
    {
     "name": "stdout",
     "output_type": "stream",
     "text": [
      "Number of features:  7\n",
      "Number of data points:  614\n",
      "x shape:  (614, 7)\n",
      "y shape:  (614,)\n"
     ]
    }
   ],
   "source": [
    "#Constructing the model\n",
    "DiabetesModel1 = ConstructModel(X_, Y_, NumberOfFeatures, NumberOfPoints)"
   ]
  },
  {
   "cell_type": "code",
   "execution_count": 16,
   "metadata": {},
   "outputs": [
    {
     "name": "stderr",
     "output_type": "stream",
     "text": [
      "Auto-assigning NUTS sampler...\n",
      "Initializing NUTS using jitter+adapt_diag...\n",
      "Multiprocess sampling (2 chains in 2 jobs)\n",
      "NUTS: [Intercept, Slope]\n",
      "100%|██████████| 10500/10500 [01:29<00:00, 117.56it/s]\n",
      "The chain reached the maximum tree depth. Increase max_treedepth, increase target_accept or reparameterize.\n",
      "The chain reached the maximum tree depth. Increase max_treedepth, increase target_accept or reparameterize.\n"
     ]
    }
   ],
   "source": [
    "#sampling\n",
    "with DiabetesModel1:\n",
    "    trace1 = pm.sample(10000, cores = 4)"
   ]
  },
  {
   "cell_type": "code",
   "execution_count": 21,
   "metadata": {},
   "outputs": [
    {
     "data": {
      "text/plain": [
       "<matplotlib.gridspec.GridSpec at 0x121fdab38>"
      ]
     },
     "execution_count": 21,
     "metadata": {},
     "output_type": "execute_result"
    },
    {
     "data": {
      "image/png": "[encoded data removed]",
      "text/plain": [
       "<matplotlib.figure.Figure at 0x122324940>"
      ]
     },
     "metadata": {},
     "output_type": "display_data"
    }
   ],
   "source": [
    "pm.forestplot(trace1, varnames = ['Slope', 'Intercept'])"
   ]
  },
  {
   "cell_type": "code",
   "execution_count": 17,
   "metadata": {},
   "outputs": [
    {
     "name": "stdout",
     "output_type": "stream",
     "text": [
      "Accuracy = 79.22077922077922%\n"
     ]
    }
   ],
   "source": [
    "#Lets now calculate the accuracy on the test set.\n",
    "Slope_Samples = trace1['Slope'].T\n",
    "Intercept_Samples = trace1['Intercept'].T\n",
    "Mean = tt.dot(X_test, Slope_Samples) + Intercept_Samples\n",
    "Probabilities = 1./(1+tt.exp(-Mean))\n",
    "MeanProbabilities = np.mean(Probabilities.eval(), axis = 1)\n",
    "Pred = MeanProbabilities > 0.65\n",
    "\n",
    "print('Accuracy = {}%'.format((y_test == Pred).mean() * 100))   "
   ]
  },
  {
   "cell_type": "code",
   "execution_count": 19,
   "metadata": {},
   "outputs": [
    {
     "data": {
      "text/html": [
       "<div>\n",
       "<style scoped>\n",
       "    .dataframe tbody tr th:only-of-type {\n",
       "        vertical-align: middle;\n",
       "    }\n",
       "\n",
       "    .dataframe tbody tr th {\n",
       "        vertical-align: top;\n",
       "    }\n",
       "\n",
       "    .dataframe thead th {\n",
       "        text-align: right;\n",
       "    }\n",
       "</style>\n",
       "<table border=\"1\" class=\"dataframe\">\n",
       "  <thead>\n",
       "    <tr style=\"text-align: right;\">\n",
       "      <th></th>\n",
       "      <th>WAIC</th>\n",
       "      <th>pWAIC</th>\n",
       "      <th>dWAIC</th>\n",
       "      <th>weight</th>\n",
       "      <th>SE</th>\n",
       "      <th>dSE</th>\n",
       "      <th>warning</th>\n",
       "    </tr>\n",
       "  </thead>\n",
       "  <tbody>\n",
       "    <tr>\n",
       "      <th>1</th>\n",
       "      <td>592.18</td>\n",
       "      <td>9.24</td>\n",
       "      <td>0</td>\n",
       "      <td>1</td>\n",
       "      <td>27.84</td>\n",
       "      <td>0</td>\n",
       "      <td>1</td>\n",
       "    </tr>\n",
       "    <tr>\n",
       "      <th>0</th>\n",
       "      <td>593.95</td>\n",
       "      <td>10.23</td>\n",
       "      <td>1.77</td>\n",
       "      <td>0</td>\n",
       "      <td>27.88</td>\n",
       "      <td>0.83</td>\n",
       "      <td>1</td>\n",
       "    </tr>\n",
       "  </tbody>\n",
       "</table>\n",
       "</div>"
      ],
      "text/plain": [
       "     WAIC  pWAIC dWAIC weight     SE   dSE warning\n",
       "1  592.18   9.24     0      1  27.84     0       1\n",
       "0  593.95  10.23  1.77      0  27.88  0.83       1"
      ]
     },
     "execution_count": 19,
     "metadata": {},
     "output_type": "execute_result"
    }
   ],
   "source": [
    "#Comparing the widely-applicable information criterion to both models. The first column is the waic score\n",
    "#(lower is better!), the second is the effective number of parameters, \n",
    "#the third is the relative difference in score between the lowest and the other models, the fourth column\n",
    "#is the Akaike weights should we like to average results of the two models, dSE is the standard relative error\n",
    "#between the two. We see that the higher parameter version yields no better score relative to the error so we remove\n",
    "#the triceps feature according to this criterion\n",
    "df_comp_WAIC = pm.compare((trace, trace1), (DiabetesModel, DiabetesModel1))\n",
    "df_comp_WAIC"
   ]
  },
  {
   "cell_type": "code",
   "execution_count": 20,
   "metadata": {},
   "outputs": [
    {
     "data": {
      "text/html": [
       "<div>\n",
       "<style scoped>\n",
       "    .dataframe tbody tr th:only-of-type {\n",
       "        vertical-align: middle;\n",
       "    }\n",
       "\n",
       "    .dataframe tbody tr th {\n",
       "        vertical-align: top;\n",
       "    }\n",
       "\n",
       "    .dataframe thead th {\n",
       "        text-align: right;\n",
       "    }\n",
       "</style>\n",
       "<table border=\"1\" class=\"dataframe\">\n",
       "  <thead>\n",
       "    <tr style=\"text-align: right;\">\n",
       "      <th></th>\n",
       "      <th>LOO</th>\n",
       "      <th>pLOO</th>\n",
       "      <th>dLOO</th>\n",
       "      <th>weight</th>\n",
       "      <th>SE</th>\n",
       "      <th>dSE</th>\n",
       "      <th>warning</th>\n",
       "    </tr>\n",
       "  </thead>\n",
       "  <tbody>\n",
       "    <tr>\n",
       "      <th>1</th>\n",
       "      <td>592.2</td>\n",
       "      <td>9.24</td>\n",
       "      <td>0</td>\n",
       "      <td>1</td>\n",
       "      <td>27.84</td>\n",
       "      <td>0</td>\n",
       "      <td>0</td>\n",
       "    </tr>\n",
       "    <tr>\n",
       "      <th>0</th>\n",
       "      <td>593.97</td>\n",
       "      <td>10.23</td>\n",
       "      <td>1.77</td>\n",
       "      <td>0</td>\n",
       "      <td>27.88</td>\n",
       "      <td>0.83</td>\n",
       "      <td>0</td>\n",
       "    </tr>\n",
       "  </tbody>\n",
       "</table>\n",
       "</div>"
      ],
      "text/plain": [
       "      LOO   pLOO  dLOO weight     SE   dSE warning\n",
       "1   592.2   9.24     0      1  27.84     0       0\n",
       "0  593.97  10.23  1.77      0  27.88  0.83       0"
      ]
     },
     "execution_count": 20,
     "metadata": {},
     "output_type": "execute_result"
    }
   ],
   "source": [
    "#The WAIC calculation might be unstable as the warning in the last column above shows so we use approximate leave-one-out\n",
    "#validation insetead which is shown to be more robust in some instances. Here we also see the non-tricepts model\n",
    "#having the same predictive power as the tricepts model. We can therefore conclude that the tricepts feature is not\n",
    "#significant \n",
    "df_comp_LOO = pm.compare((trace, trace1), (DiabetesModel, DiabetesModel1), ic = 'LOO')\n",
    "df_comp_LOO"
   ]
  }
 ],
 "metadata": {
  "kernelspec": {
   "display_name": "Python 3",
   "language": "python",
   "name": "python3"
  },
  "language_info": {
   "codemirror_mode": {
    "name": "ipython",
    "version": 3
   },
   "file_extension": ".py",
   "mimetype": "text/x-python",
   "name": "python",
   "nbconvert_exporter": "python",
   "pygments_lexer": "ipython3",
   "version": "3.6.3"
  },
  "nikola": {
   "category": "Bayesian, Regression, Hypothesis Testing",
   "date": "2018-02-28 18:39:28 UTC-08:00",
   "description": "",
   "link": "",
   "slug": "diabetes-in-the-pima-indian-population-with-logistic-regression-and-hypothesis-testing",
   "tags": "Bayesian, Regression, Hypothesis Testing",
   "title": "Predicting diabetes in the Pima Indian Population with Logistic Regression and Hypothesis Testing",
   "type": "text"
  }
 },
 "nbformat": 4,
 "nbformat_minor": 2
}
