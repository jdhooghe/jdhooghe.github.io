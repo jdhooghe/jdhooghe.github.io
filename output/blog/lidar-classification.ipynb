{
  "cells": [
   {
    "cell_type": "code",
    "execution_count": 20,
    "metadata": {},
    "outputs": [
     {
      "data": {
       "text/html": [
        "\n",
        "    <div class=\"bk-root\">\n",
        "        <a href=\"https://bokeh.pydata.org\" target=\"_blank\" class=\"bk-logo bk-logo-small bk-logo-notebook\"></a>\n",
        "        <span id=\"b824ec48-ddec-46db-b7c0-d386cc012b09\">Loading BokehJS ...</span>\n",
        "    </div>"
       ]
      },
      "metadata": {},
      "output_type": "display_data"
     },
     {
      "data": {
       "application/javascript": [
        "\n",
        "(function(root) {\n",
        "  function now() {\n",
        "    return new Date();\n",
        "  }\n",
        "\n",
        "  var force = true;\n",
        "\n",
        "  if (typeof (root._bokeh_onload_callbacks) === \"undefined\" || force === true) {\n",
        "    root._bokeh_onload_callbacks = [];\n",
        "    root._bokeh_is_loading = undefined;\n",
        "  }\n",
        "\n",
        "  var JS_MIME_TYPE = 'application/javascript';\n",
        "  var HTML_MIME_TYPE = 'text/html';\n",
        "  var EXEC_MIME_TYPE = 'application/vnd.bokehjs_exec.v0+json';\n",
        "  var CLASS_NAME = 'output_bokeh rendered_html';\n",
        "\n",
        "  /**\n",
        "   * Render data to the DOM node\n",
        "   */\n",
        "  function render(props, node) {\n",
        "    var script = document.createElement(\"script\");\n",
        "    node.appendChild(script);\n",
        "  }\n",
        "\n",
        "  /**\n",
        "   * Handle when an output is cleared or removed\n",
        "   */\n",
        "  function handleClearOutput(event, handle) {\n",
        "    var cell = handle.cell;\n",
        "\n",
        "    var id = cell.output_area._bokeh_element_id;\n",
        "    var server_id = cell.output_area._bokeh_server_id;\n",
        "    // Clean up Bokeh references\n",
        "    if (id !== undefined) {\n",
        "      Bokeh.index[id].model.document.clear();\n",
        "      delete Bokeh.index[id];\n",
        "    }\n",
        "\n",
        "    if (server_id !== undefined) {\n",
        "      // Clean up Bokeh references\n",
        "      var cmd = \"from bokeh.io.state import curstate; print(curstate().uuid_to_server['\" + server_id + \"'].get_sessions()[0].document.roots[0]._id)\";\n",
        "      cell.notebook.kernel.execute(cmd, {\n",
        "        iopub: {\n",
        "          output: function(msg) {\n",
        "            var element_id = msg.content.text.trim();\n",
        "            Bokeh.index[element_id].model.document.clear();\n",
        "            delete Bokeh.index[element_id];\n",
        "          }\n",
        "        }\n",
        "      });\n",
        "      // Destroy server and session\n",
        "      var cmd = \"import bokeh.io.notebook as ion; ion.destroy_server('\" + server_id + \"')\";\n",
        "      cell.notebook.kernel.execute(cmd);\n",
        "    }\n",
        "  }\n",
        "\n",
        "  /**\n",
        "   * Handle when a new output is added\n",
        "   */\n",
        "  function handleAddOutput(event, handle) {\n",
        "    var output_area = handle.output_area;\n",
        "    var output = handle.output;\n",
        "\n",
        "    // limit handleAddOutput to display_data with EXEC_MIME_TYPE content only\n",
        "    if ((output.output_type != \"display_data\") || (!output.data.hasOwnProperty(EXEC_MIME_TYPE))) {\n",
        "      return\n",
        "    }\n",
        "\n",
        "    var toinsert = output_area.element.find(\".\" + CLASS_NAME.split(' ')[0]);\n",
        "\n",
        "    if (output.metadata[EXEC_MIME_TYPE][\"id\"] !== undefined) {\n",
        "      toinsert[0].firstChild.textContent = output.data[JS_MIME_TYPE];\n",
        "      // store reference to embed id on output_area\n",
        "      output_area._bokeh_element_id = output.metadata[EXEC_MIME_TYPE][\"id\"];\n",
        "    }\n",
        "    if (output.metadata[EXEC_MIME_TYPE][\"server_id\"] !== undefined) {\n",
        "      var bk_div = document.createElement(\"div\");\n",
        "      bk_div.innerHTML = output.data[HTML_MIME_TYPE];\n",
        "      var script_attrs = bk_div.children[0].attributes;\n",
        "      for (var i = 0; i < script_attrs.length; i++) {\n",
        "        toinsert[0].firstChild.setAttribute(script_attrs[i].name, script_attrs[i].value);\n",
        "      }\n",
        "      // store reference to server id on output_area\n",
        "      output_area._bokeh_server_id = output.metadata[EXEC_MIME_TYPE][\"server_id\"];\n",
        "    }\n",
        "  }\n",
        "\n",
        "  function register_renderer(events, OutputArea) {\n",
        "\n",
        "    function append_mime(data, metadata, element) {\n",
        "      // create a DOM node to render to\n",
        "      var toinsert = this.create_output_subarea(\n",
        "        metadata,\n",
        "        CLASS_NAME,\n",
        "        EXEC_MIME_TYPE\n",
        "      );\n",
        "      this.keyboard_manager.register_events(toinsert);\n",
        "      // Render to node\n",
        "      var props = {data: data, metadata: metadata[EXEC_MIME_TYPE]};\n",
        "      render(props, toinsert[0]);\n",
        "      element.append(toinsert);\n",
        "      return toinsert\n",
        "    }\n",
        "\n",
        "    /* Handle when an output is cleared or removed */\n",
        "    events.on('clear_output.CodeCell', handleClearOutput);\n",
        "    events.on('delete.Cell', handleClearOutput);\n",
        "\n",
        "    /* Handle when a new output is added */\n",
        "    events.on('output_added.OutputArea', handleAddOutput);\n",
        "\n",
        "    /**\n",
        "     * Register the mime type and append_mime function with output_area\n",
        "     */\n",
        "    OutputArea.prototype.register_mime_type(EXEC_MIME_TYPE, append_mime, {\n",
        "      /* Is output safe? */\n",
        "      safe: true,\n",
        "      /* Index of renderer in `output_area.display_order` */\n",
        "      index: 0\n",
        "    });\n",
        "  }\n",
        "\n",
        "  // register the mime type if in Jupyter Notebook environment and previously unregistered\n",
        "  if (root.Jupyter !== undefined) {\n",
        "    var events = require('base/js/events');\n",
        "    var OutputArea = require('notebook/js/outputarea').OutputArea;\n",
        "\n",
        "    if (OutputArea.prototype.mime_types().indexOf(EXEC_MIME_TYPE) == -1) {\n",
        "      register_renderer(events, OutputArea);\n",
        "    }\n",
        "  }\n",
        "\n",
        "  \n",
        "  if (typeof (root._bokeh_timeout) === \"undefined\" || force === true) {\n",
        "    root._bokeh_timeout = Date.now() + 5000;\n",
        "    root._bokeh_failed_load = false;\n",
        "  }\n",
        "\n",
        "  var NB_LOAD_WARNING = {'data': {'text/html':\n",
        "     \"<div style='background-color: #fdd'>\\n\"+\n",
        "     \"<p>\\n\"+\n",
        "     \"BokehJS does not appear to have successfully loaded. If loading BokehJS from CDN, this \\n\"+\n",
        "     \"may be due to a slow or bad network connection. Possible fixes:\\n\"+\n",
        "     \"</p>\\n\"+\n",
        "     \"<ul>\\n\"+\n",
        "     \"<li>re-rerun `output_notebook()` to attempt to load from CDN again, or</li>\\n\"+\n",
        "     \"<li>use INLINE resources instead, as so:</li>\\n\"+\n",
        "     \"</ul>\\n\"+\n",
        "     \"<code>\\n\"+\n",
        "     \"from bokeh.resources import INLINE\\n\"+\n",
        "     \"output_notebook(resources=INLINE)\\n\"+\n",
        "     \"</code>\\n\"+\n",
        "     \"</div>\"}};\n",
        "\n",
        "  function display_loaded() {\n",
        "    var el = document.getElementById(\"b824ec48-ddec-46db-b7c0-d386cc012b09\");\n",
        "    if (el != null) {\n",
        "      el.textContent = \"BokehJS is loading...\";\n",
        "    }\n",
        "    if (root.Bokeh !== undefined) {\n",
        "      if (el != null) {\n",
        "        el.textContent = \"BokehJS \" + root.Bokeh.version + \" successfully loaded.\";\n",
        "      }\n",
        "    } else if (Date.now() < root._bokeh_timeout) {\n",
        "      setTimeout(display_loaded, 100)\n",
        "    }\n",
        "  }\n",
        "\n",
        "\n",
        "  function run_callbacks() {\n",
        "    try {\n",
        "      root._bokeh_onload_callbacks.forEach(function(callback) { callback() });\n",
        "    }\n",
        "    finally {\n",
        "      delete root._bokeh_onload_callbacks\n",
        "    }\n",
        "    console.info(\"Bokeh: all callbacks have finished\");\n",
        "  }\n",
        "\n",
        "  function load_libs(js_urls, callback) {\n",
        "    root._bokeh_onload_callbacks.push(callback);\n",
        "    if (root._bokeh_is_loading > 0) {\n",
        "      console.log(\"Bokeh: BokehJS is being loaded, scheduling callback at\", now());\n",
        "      return null;\n",
        "    }\n",
        "    if (js_urls == null || js_urls.length === 0) {\n",
        "      run_callbacks();\n",
        "      return null;\n",
        "    }\n",
        "    console.log(\"Bokeh: BokehJS not loaded, scheduling load and callback at\", now());\n",
        "    root._bokeh_is_loading = js_urls.length;\n",
        "    for (var i = 0; i < js_urls.length; i++) {\n",
        "      var url = js_urls[i];\n",
        "      var s = document.createElement('script');\n",
        "      s.src = url;\n",
        "      s.async = false;\n",
        "      s.onreadystatechange = s.onload = function() {\n",
        "        root._bokeh_is_loading--;\n",
        "        if (root._bokeh_is_loading === 0) {\n",
        "          console.log(\"Bokeh: all BokehJS libraries loaded\");\n",
        "          run_callbacks()\n",
        "        }\n",
        "      };\n",
        "      s.onerror = function() {\n",
        "        console.warn(\"failed to load library \" + url);\n",
        "      };\n",
        "      console.log(\"Bokeh: injecting script tag for BokehJS library: \", url);\n",
        "      document.getElementsByTagName(\"head\")[0].appendChild(s);\n",
        "    }\n",
        "  };var element = document.getElementById(\"b824ec48-ddec-46db-b7c0-d386cc012b09\");\n",
        "  if (element == null) {\n",
        "    console.log(\"Bokeh: ERROR: autoload.js configured with elementid 'b824ec48-ddec-46db-b7c0-d386cc012b09' but no matching script tag was found. \")\n",
        "    return false;\n",
        "  }\n",
        "\n",
        "  var js_urls = [\"https://cdn.pydata.org/bokeh/release/bokeh-0.12.13.min.js\", \"https://cdn.pydata.org/bokeh/release/bokeh-widgets-0.12.13.min.js\", \"https://cdn.pydata.org/bokeh/release/bokeh-tables-0.12.13.min.js\", \"https://cdn.pydata.org/bokeh/release/bokeh-gl-0.12.13.min.js\"];\n",
        "\n",
        "  var inline_js = [\n",
        "    function(Bokeh) {\n",
        "      Bokeh.set_log_level(\"info\");\n",
        "    },\n",
        "    \n",
        "    function(Bokeh) {\n",
        "      \n",
        "    },\n",
        "    function(Bokeh) {\n",
        "      console.log(\"Bokeh: injecting CSS: https://cdn.pydata.org/bokeh/release/bokeh-0.12.13.min.css\");\n",
        "      Bokeh.embed.inject_css(\"https://cdn.pydata.org/bokeh/release/bokeh-0.12.13.min.css\");\n",
        "      console.log(\"Bokeh: injecting CSS: https://cdn.pydata.org/bokeh/release/bokeh-widgets-0.12.13.min.css\");\n",
        "      Bokeh.embed.inject_css(\"https://cdn.pydata.org/bokeh/release/bokeh-widgets-0.12.13.min.css\");\n",
        "      console.log(\"Bokeh: injecting CSS: https://cdn.pydata.org/bokeh/release/bokeh-tables-0.12.13.min.css\");\n",
        "      Bokeh.embed.inject_css(\"https://cdn.pydata.org/bokeh/release/bokeh-tables-0.12.13.min.css\");\n",
        "    }\n",
        "  ];\n",
        "\n",
        "  function run_inline_js() {\n",
        "    \n",
        "    if ((root.Bokeh !== undefined) || (force === true)) {\n",
        "      for (var i = 0; i < inline_js.length; i++) {\n",
        "        inline_js[i].call(root, root.Bokeh);\n",
        "      }if (force === true) {\n",
        "        display_loaded();\n",
        "      }} else if (Date.now() < root._bokeh_timeout) {\n",
        "      setTimeout(run_inline_js, 100);\n",
        "    } else if (!root._bokeh_failed_load) {\n",
        "      console.log(\"Bokeh: BokehJS failed to load within specified timeout.\");\n",
        "      root._bokeh_failed_load = true;\n",
        "    } else if (force !== true) {\n",
        "      var cell = $(document.getElementById(\"b824ec48-ddec-46db-b7c0-d386cc012b09\")).parents('.cell').data().cell;\n",
        "      cell.output_area.append_execute_result(NB_LOAD_WARNING)\n",
        "    }\n",
        "\n",
        "  }\n",
        "\n",
        "  if (root._bokeh_is_loading === 0) {\n",
        "    console.log(\"Bokeh: BokehJS loaded, going straight to plotting\");\n",
        "    run_inline_js();\n",
        "  } else {\n",
        "    load_libs(js_urls, function() {\n",
        "      console.log(\"Bokeh: BokehJS plotting callback run at\", now());\n",
        "      run_inline_js();\n",
        "    });\n",
        "  }\n",
        "}(window));"
       ],
       "application/vnd.bokehjs_load.v0+json": "\n(function(root) {\n  function now() {\n    return new Date();\n  }\n\n  var force = true;\n\n  if (typeof (root._bokeh_onload_callbacks) === \"undefined\" || force === true) {\n    root._bokeh_onload_callbacks = [];\n    root._bokeh_is_loading = undefined;\n  }\n\n  \n\n  \n  if (typeof (root._bokeh_timeout) === \"undefined\" || force === true) {\n    root._bokeh_timeout = Date.now() + 5000;\n    root._bokeh_failed_load = false;\n  }\n\n  var NB_LOAD_WARNING = {'data': {'text/html':\n     \"<div style='background-color: #fdd'>\\n\"+\n     \"<p>\\n\"+\n     \"BokehJS does not appear to have successfully loaded. If loading BokehJS from CDN, this \\n\"+\n     \"may be due to a slow or bad network connection. Possible fixes:\\n\"+\n     \"</p>\\n\"+\n     \"<ul>\\n\"+\n     \"<li>re-rerun `output_notebook()` to attempt to load from CDN again, or</li>\\n\"+\n     \"<li>use INLINE resources instead, as so:</li>\\n\"+\n     \"</ul>\\n\"+\n     \"<code>\\n\"+\n     \"from bokeh.resources import INLINE\\n\"+\n     \"output_notebook(resources=INLINE)\\n\"+\n     \"</code>\\n\"+\n     \"</div>\"}};\n\n  function display_loaded() {\n    var el = document.getElementById(\"b824ec48-ddec-46db-b7c0-d386cc012b09\");\n    if (el != null) {\n      el.textContent = \"BokehJS is loading...\";\n    }\n    if (root.Bokeh !== undefined) {\n      if (el != null) {\n        el.textContent = \"BokehJS \" + root.Bokeh.version + \" successfully loaded.\";\n      }\n    } else if (Date.now() < root._bokeh_timeout) {\n      setTimeout(display_loaded, 100)\n    }\n  }\n\n\n  function run_callbacks() {\n    try {\n      root._bokeh_onload_callbacks.forEach(function(callback) { callback() });\n    }\n    finally {\n      delete root._bokeh_onload_callbacks\n    }\n    console.info(\"Bokeh: all callbacks have finished\");\n  }\n\n  function load_libs(js_urls, callback) {\n    root._bokeh_onload_callbacks.push(callback);\n    if (root._bokeh_is_loading > 0) {\n      console.log(\"Bokeh: BokehJS is being loaded, scheduling callback at\", now());\n      return null;\n    }\n    if (js_urls == null || js_urls.length === 0) {\n      run_callbacks();\n      return null;\n    }\n    console.log(\"Bokeh: BokehJS not loaded, scheduling load and callback at\", now());\n    root._bokeh_is_loading = js_urls.length;\n    for (var i = 0; i < js_urls.length; i++) {\n      var url = js_urls[i];\n      var s = document.createElement('script');\n      s.src = url;\n      s.async = false;\n      s.onreadystatechange = s.onload = function() {\n        root._bokeh_is_loading--;\n        if (root._bokeh_is_loading === 0) {\n          console.log(\"Bokeh: all BokehJS libraries loaded\");\n          run_callbacks()\n        }\n      };\n      s.onerror = function() {\n        console.warn(\"failed to load library \" + url);\n      };\n      console.log(\"Bokeh: injecting script tag for BokehJS library: \", url);\n      document.getElementsByTagName(\"head\")[0].appendChild(s);\n    }\n  };var element = document.getElementById(\"b824ec48-ddec-46db-b7c0-d386cc012b09\");\n  if (element == null) {\n    console.log(\"Bokeh: ERROR: autoload.js configured with elementid 'b824ec48-ddec-46db-b7c0-d386cc012b09' but no matching script tag was found. \")\n    return false;\n  }\n\n  var js_urls = [\"https://cdn.pydata.org/bokeh/release/bokeh-0.12.13.min.js\", \"https://cdn.pydata.org/bokeh/release/bokeh-widgets-0.12.13.min.js\", \"https://cdn.pydata.org/bokeh/release/bokeh-tables-0.12.13.min.js\", \"https://cdn.pydata.org/bokeh/release/bokeh-gl-0.12.13.min.js\"];\n\n  var inline_js = [\n    function(Bokeh) {\n      Bokeh.set_log_level(\"info\");\n    },\n    \n    function(Bokeh) {\n      \n    },\n    function(Bokeh) {\n      console.log(\"Bokeh: injecting CSS: https://cdn.pydata.org/bokeh/release/bokeh-0.12.13.min.css\");\n      Bokeh.embed.inject_css(\"https://cdn.pydata.org/bokeh/release/bokeh-0.12.13.min.css\");\n      console.log(\"Bokeh: injecting CSS: https://cdn.pydata.org/bokeh/release/bokeh-widgets-0.12.13.min.css\");\n      Bokeh.embed.inject_css(\"https://cdn.pydata.org/bokeh/release/bokeh-widgets-0.12.13.min.css\");\n      console.log(\"Bokeh: injecting CSS: https://cdn.pydata.org/bokeh/release/bokeh-tables-0.12.13.min.css\");\n      Bokeh.embed.inject_css(\"https://cdn.pydata.org/bokeh/release/bokeh-tables-0.12.13.min.css\");\n    }\n  ];\n\n  function run_inline_js() {\n    \n    if ((root.Bokeh !== undefined) || (force === true)) {\n      for (var i = 0; i < inline_js.length; i++) {\n        inline_js[i].call(root, root.Bokeh);\n      }if (force === true) {\n        display_loaded();\n      }} else if (Date.now() < root._bokeh_timeout) {\n      setTimeout(run_inline_js, 100);\n    } else if (!root._bokeh_failed_load) {\n      console.log(\"Bokeh: BokehJS failed to load within specified timeout.\");\n      root._bokeh_failed_load = true;\n    } else if (force !== true) {\n      var cell = $(document.getElementById(\"b824ec48-ddec-46db-b7c0-d386cc012b09\")).parents('.cell').data().cell;\n      cell.output_area.append_execute_result(NB_LOAD_WARNING)\n    }\n\n  }\n\n  if (root._bokeh_is_loading === 0) {\n    console.log(\"Bokeh: BokehJS loaded, going straight to plotting\");\n    run_inline_js();\n  } else {\n    load_libs(js_urls, function() {\n      console.log(\"Bokeh: BokehJS plotting callback run at\", now());\n      run_inline_js();\n    });\n  }\n}(window));"
      },
      "metadata": {},
      "output_type": "display_data"
     }
    ],
    "source": [
     "import pymc3 as pm\n",
     "import numpy as np\n",
     "import pandas as pd\n",
     "from bokeh.plotting import figure, show\n",
     "from bokeh.io import output_notebook\n",
     "from bokeh.layouts import row\n",
     "from sklearn.model_selection import train_test_split\n",
     "from sklearn.preprocessing import MinMaxScaler\n",
     "import theano\n",
     "output_notebook()\n",
     "from random import sample\n",
     "from sklearn.metrics import classification_report\n",
     "import pickle"
    ]
   },
   {
    "cell_type": "code",
    "execution_count": 2,
    "metadata": {},
    "outputs": [
     {
      "data": {
       "text/html": [
        "<div>\n",
        "<style scoped>\n",
        "    .dataframe tbody tr th:only-of-type {\n",
        "        vertical-align: middle;\n",
        "    }\n",
        "\n",
        "    .dataframe tbody tr th {\n",
        "        vertical-align: top;\n",
        "    }\n",
        "\n",
        "    .dataframe thead th {\n",
        "        text-align: right;\n",
        "    }\n",
        "</style>\n",
        "<table border=\"1\" class=\"dataframe\">\n",
        "  <thead>\n",
        "    <tr style=\"text-align: right;\">\n",
        "      <th></th>\n",
        "      <th>x</th>\n",
        "      <th>y</th>\n",
        "      <th>z</th>\n",
        "      <th>classification</th>\n",
        "      <th>gpstime</th>\n",
        "      <th>scan_angle</th>\n",
        "      <th>intensity</th>\n",
        "      <th>number_of_returns</th>\n",
        "      <th>return_number</th>\n",
        "      <th>direction_of_scan_flag</th>\n",
        "      <th>red_channel</th>\n",
        "      <th>green_channel</th>\n",
        "      <th>blue_channel</th>\n",
        "    </tr>\n",
        "  </thead>\n",
        "  <tbody>\n",
        "    <tr>\n",
        "      <th>0</th>\n",
        "      <td>6357435.38</td>\n",
        "      <td>1920674.90</td>\n",
        "      <td>160.50</td>\n",
        "      <td>1</td>\n",
        "      <td>6.547720e+07</td>\n",
        "      <td>10</td>\n",
        "      <td>151</td>\n",
        "      <td>1</td>\n",
        "      <td>1</td>\n",
        "      <td>1</td>\n",
        "      <td>7680</td>\n",
        "      <td>8704</td>\n",
        "      <td>7424</td>\n",
        "    </tr>\n",
        "    <tr>\n",
        "      <th>1</th>\n",
        "      <td>6357435.38</td>\n",
        "      <td>1920675.95</td>\n",
        "      <td>160.01</td>\n",
        "      <td>2</td>\n",
        "      <td>6.547720e+07</td>\n",
        "      <td>10</td>\n",
        "      <td>78</td>\n",
        "      <td>1</td>\n",
        "      <td>1</td>\n",
        "      <td>0</td>\n",
        "      <td>7424</td>\n",
        "      <td>8960</td>\n",
        "      <td>7680</td>\n",
        "    </tr>\n",
        "    <tr>\n",
        "      <th>2</th>\n",
        "      <td>6357432.62</td>\n",
        "      <td>1920675.03</td>\n",
        "      <td>159.91</td>\n",
        "      <td>7</td>\n",
        "      <td>6.547720e+07</td>\n",
        "      <td>10</td>\n",
        "      <td>71</td>\n",
        "      <td>1</td>\n",
        "      <td>1</td>\n",
        "      <td>0</td>\n",
        "      <td>7424</td>\n",
        "      <td>8704</td>\n",
        "      <td>7936</td>\n",
        "    </tr>\n",
        "  </tbody>\n",
        "</table>\n",
        "</div>"
       ],
       "text/plain": [
        "            x           y       z  classification       gpstime  scan_angle  \\\n",
        "0  6357435.38  1920674.90  160.50               1  6.547720e+07          10   \n",
        "1  6357435.38  1920675.95  160.01               2  6.547720e+07          10   \n",
        "2  6357432.62  1920675.03  159.91               7  6.547720e+07          10   \n",
        "\n",
        "   intensity  number_of_returns  return_number  direction_of_scan_flag  \\\n",
        "0        151                  1              1                       1   \n",
        "1         78                  1              1                       0   \n",
        "2         71                  1              1                       0   \n",
        "\n",
        "   red_channel  green_channel  blue_channel  \n",
        "0         7680           8704          7424  \n",
        "1         7424           8960          7680  \n",
        "2         7424           8704          7936  "
       ]
      },
      "execution_count": 2,
      "metadata": {},
      "output_type": "execute_result"
     }
    ],
    "source": [
     "Data = pd.read_csv(\"points.txt\")\n",
     "Data = Data.drop(['point_source_ID', 'edge_of_flight_line_flag', 'user_data'], axis = 1)\n",
     "Data.head(3)"
    ]
   },
   {
    "cell_type": "code",
    "execution_count": 3,
    "metadata": {},
    "outputs": [
     {
      "data": {
       "text/plain": [
        "array([1, 2, 7, 5, 6])"
       ]
      },
      "execution_count": 3,
      "metadata": {},
      "output_type": "execute_result"
     }
    ],
    "source": [
     "Data['classification'].unique()"
    ]
   },
   {
    "cell_type": "code",
    "execution_count": 4,
    "metadata": {},
    "outputs": [
     {
      "name": "stdout",
      "output_type": "stream",
      "text": [
       "5    40252\n",
       "2    28543\n",
       "1    22793\n",
       "6    12812\n",
       "7     4255\n",
       "Name: classification, dtype: int64\n"
      ]
     }
    ],
    "source": [
     "Counts = Data['classification'].value_counts()\n",
     "print (Counts)"
    ]
   },
   {
    "cell_type": "code",
    "execution_count": 5,
    "metadata": {},
    "outputs": [],
    "source": [
     "Data['r'] = np.sqrt(Data['x']**2 + Data['y']**2)\n",
     "Data = Data.drop(['x', 'y'], axis = 1)"
    ]
   },
   {
    "cell_type": "code",
    "execution_count": 6,
    "metadata": {},
    "outputs": [
     {
      "name": "stdout",
      "output_type": "stream",
      "text": [
       "                               z  classification   gpstime  scan_angle  \\\n",
       "z                       1.000000        0.521013 -0.017554    0.024894   \n",
       "classification          0.521013        1.000000 -0.050794    0.046242   \n",
       "gpstime                -0.017554       -0.050794  1.000000   -0.887780   \n",
       "scan_angle              0.024894        0.046242 -0.887780    1.000000   \n",
       "intensity              -0.191177       -0.332200 -0.010847    0.038204   \n",
       "number_of_returns       0.328410        0.250299  0.020555   -0.030634   \n",
       "return_number          -0.041576        0.053497  0.013867   -0.021743   \n",
       "direction_of_scan_flag  0.001273        0.004487 -0.039010    0.042865   \n",
       "red_channel            -0.054378        0.039821  0.020954   -0.044339   \n",
       "green_channel          -0.027891        0.058669  0.015206   -0.037843   \n",
       "blue_channel           -0.126787        0.008045  0.009596   -0.026775   \n",
       "r                      -0.132905       -0.094354  0.219605   -0.278599   \n",
       "\n",
       "                        intensity  number_of_returns  return_number  \\\n",
       "z                       -0.191177           0.328410      -0.041576   \n",
       "classification          -0.332200           0.250299       0.053497   \n",
       "gpstime                 -0.010847           0.020555       0.013867   \n",
       "scan_angle               0.038204          -0.030634      -0.021743   \n",
       "intensity                1.000000          -0.473522      -0.413507   \n",
       "number_of_returns       -0.473522           1.000000       0.690145   \n",
       "return_number           -0.413507           0.690145       1.000000   \n",
       "direction_of_scan_flag  -0.001349          -0.012350      -0.008577   \n",
       "red_channel             -0.042367          -0.032165      -0.019577   \n",
       "green_channel           -0.070250          -0.012859      -0.006326   \n",
       "blue_channel            -0.060186          -0.119975      -0.079786   \n",
       "r                       -0.048047           0.040567       0.025771   \n",
       "\n",
       "                        direction_of_scan_flag  red_channel  green_channel  \\\n",
       "z                                     0.001273    -0.054378      -0.027891   \n",
       "classification                        0.004487     0.039821       0.058669   \n",
       "gpstime                              -0.039010     0.020954       0.015206   \n",
       "scan_angle                            0.042865    -0.044339      -0.037843   \n",
       "intensity                            -0.001349    -0.042367      -0.070250   \n",
       "number_of_returns                    -0.012350    -0.032165      -0.012859   \n",
       "return_number                        -0.008577    -0.019577      -0.006326   \n",
       "direction_of_scan_flag                1.000000    -0.000094       0.000569   \n",
       "red_channel                          -0.000094     1.000000       0.980049   \n",
       "green_channel                         0.000569     0.980049       1.000000   \n",
       "blue_channel                          0.001688     0.937501       0.954587   \n",
       "r                                    -0.021613     0.113368       0.095102   \n",
       "\n",
       "                        blue_channel         r  \n",
       "z                          -0.126787 -0.132905  \n",
       "classification              0.008045 -0.094354  \n",
       "gpstime                     0.009596  0.219605  \n",
       "scan_angle                 -0.026775 -0.278599  \n",
       "intensity                  -0.060186 -0.048047  \n",
       "number_of_returns          -0.119975  0.040567  \n",
       "return_number              -0.079786  0.025771  \n",
       "direction_of_scan_flag      0.001688 -0.021613  \n",
       "red_channel                 0.937501  0.113368  \n",
       "green_channel               0.954587  0.095102  \n",
       "blue_channel                1.000000  0.062992  \n",
       "r                           0.062992  1.000000  \n"
      ]
     }
    ],
    "source": [
     "DataCorrelations = Data.corr()\n",
     "print (DataCorrelations)"
    ]
   },
   {
    "cell_type": "markdown",
    "metadata": {},
    "source": [
     "Classification is correlated with r weakly and z, intensity, number_of_returns strongly"
    ]
   },
   {
    "cell_type": "code",
    "execution_count": 7,
    "metadata": {},
    "outputs": [],
    "source": [
     "RefinedData = Data.drop(['gpstime', 'scan_angle', 'direction_of_scan_flag', 'red_channel', 'green_channel', 'blue_channel'], axis = 1)\n",
     "RefinedData['z'] = (RefinedData['z'] - RefinedData['z'].min()) / (RefinedData['z'].max() - RefinedData['z'].min())\n",
     "RefinedData['r'] = (RefinedData['r'] - RefinedData['r'].min()) / (RefinedData['r'].max() - RefinedData['r'].min())\n",
     "RefinedData['intensity'] = (RefinedData['intensity'] - RefinedData['intensity'].min()) / (RefinedData['intensity'].max() - RefinedData['intensity'].min())\n",
     "RefinedData.head(3)\n",
     "Data = RefinedData"
    ]
   },
   {
    "cell_type": "code",
    "execution_count": 8,
    "metadata": {},
    "outputs": [
     {
      "name": "stdout",
      "output_type": "stream",
      "text": [
       "(21275, 6)\n"
      ]
     }
    ],
    "source": [
     "Class1 = Data.loc[Data['classification'] == 1]\n",
     "Class1Sample = Class1.sample(n =4255)\n",
     "Class2 = Data.loc[Data['classification'] == 2]\n",
     "Class2Sample = Class2.sample(n =4255)\n",
     "Class5 = Data.loc[Data['classification'] == 5]\n",
     "Class5Sample = Class5.sample(n =4255)\n",
     "Class6 = Data.loc[Data['classification'] == 6]\n",
     "Class6Sample = Class6.sample(n =4255)\n",
     "Class7 = Data.loc[Data['classification'] == 7]\n",
     "Class7Sample = Class7.sample(n =4255)\n",
     "\n",
     "W = Class1Sample.append(Class2Sample, ignore_index=True)\n",
     "W = W.append(Class5Sample, ignore_index=True)\n",
     "W = W.append(Class6Sample, ignore_index=True)\n",
     "WellMixedData = W.append(Class7Sample, ignore_index=True)\n",
     "WellMixedData = WellMixedData.sample(frac=1)\n",
     "print (WellMixedData.shape)"
    ]
   },
   {
    "cell_type": "code",
    "execution_count": 9,
    "metadata": {},
    "outputs": [],
    "source": [
     "x = WellMixedData[['r', 'z', 'intensity', 'number_of_returns']].values\n",
     "y = pd.get_dummies(WellMixedData['classification']).values\n",
     "\n",
     "x_train, x_test, y_train, y_test = train_test_split(x, y, test_size=0.2, random_state=42)"
    ]
   },
   {
    "cell_type": "code",
    "execution_count": 10,
    "metadata": {},
    "outputs": [
     {
      "name": "stdout",
      "output_type": "stream",
      "text": [
       "(17020, 4)\n",
       "(17020, 5)\n"
      ]
     }
    ],
    "source": [
     "print (x_train.shape)\n",
     "print (y_train.shape)\n",
     "NumberOfFeatures = x_train.shape[1]\n",
     "NumberOfClasses = y_train.shape[1]"
    ]
   },
   {
    "cell_type": "code",
    "execution_count": 11,
    "metadata": {},
    "outputs": [],
    "source": [
     "def logit(C):\n",
     "    return 1./(1.+pm.math.exp(-C))"
    ]
   },
   {
    "cell_type": "code",
    "execution_count": 12,
    "metadata": {},
    "outputs": [],
    "source": [
     "def CreateModel(X, Y):\n",
     "    with pm.Model() as Model:\n",
     "        Slopes = pm.Normal(\"Slopes\", sd = 100., shape=(NumberOfFeatures, NumberOfClasses))\n",
     "        Intercept = pm.Normal(\"Intercepts\", sd = 100., shape=NumberOfClasses)\n",
     "        LogOdds = pm.Deterministic(\"p\", logit(theano.tensor.dot(X, Slopes) + Intercept))\n",
     "        \n",
     "        Observed = pm.Multinomial(\"Multi\", p = LogOdds, observed = Y, n = 1)\n",
     "        \n",
     "        \n",
     "    return Model"
    ]
   },
   {
    "cell_type": "code",
    "execution_count": 13,
    "metadata": {},
    "outputs": [
     {
      "name": "stderr",
      "output_type": "stream",
      "text": [
       "/anaconda3/lib/python3.6/site-packages/theano/tensor/basic.py:2184: UserWarning: theano.tensor.round() changed its default from `half_away_from_zero` to `half_to_even` to have the same default as NumPy. Use the Theano flag `warn.round=False` to disable this warning.\n",
       "  \"theano.tensor.round() changed its default from\"\n"
      ]
     }
    ],
    "source": [
     "X = theano.shared(x_train)\n",
     "Y = theano.shared(y_train)\n",
     "Model = CreateModel(X, Y)"
    ]
   },
   {
    "cell_type": "code",
    "execution_count": 16,
    "metadata": {},
    "outputs": [
     {
      "name": "stderr",
      "output_type": "stream",
      "text": [
       "Average Loss = 14,170: 100%|██████████| 100000/100000 [25:48<00:00, 64.59it/s]\n",
       "Finished [100%]: Average Loss = 14,170\n"
      ]
     }
    ],
    "source": [
     "try:\n",
     "    approx = pickle.load(open(\"Trace.p\", \"rb\"))\n",
     "except (OSError, IOError) as e:\n",
     "    \n",
     "    with Model:\n",
     "        inference = pm.ADVI()\n",
     "        approx = pm.fit(n=100000, method=inference)\n",
     "    pickle.dump(approx, open(\"Trace.p\", \"wb\"))\n",
     "\n"
    ]
   },
   {
    "cell_type": "code",
    "execution_count": 17,
    "metadata": {},
    "outputs": [],
    "source": [
     "X.set_value(x_test)\n",
     "Y.set_value(y_test)"
    ]
   },
   {
    "cell_type": "code",
    "execution_count": 57,
    "metadata": {},
    "outputs": [],
    "source": [
     "Intercepts = sample_array['Intercepts']\n",
     "Slopes = sample_array['Slopes']"
    ]
   },
   {
    "cell_type": "code",
    "execution_count": 58,
    "metadata": {},
    "outputs": [],
    "source": [
     "Predictions = theano.tensor.dot(x_test,Slopes)+Intercepts"
    ]
   },
   {
    "cell_type": "code",
    "execution_count": 59,
    "metadata": {},
    "outputs": [],
    "source": [
     "Probabilities = logit(Predictions).eval()"
    ]
   },
   {
    "cell_type": "code",
    "execution_count": 60,
    "metadata": {},
    "outputs": [
     {
      "name": "stdout",
      "output_type": "stream",
      "text": [
       "             precision    recall  f1-score   support\n",
       "\n",
       "          0       0.87      0.11      0.20       863\n",
       "          1       0.42      0.84      0.56       837\n",
       "          2       0.96      0.89      0.92       857\n",
       "          3       0.84      0.94      0.89       855\n",
       "          4       0.66      0.55      0.60       843\n",
       "\n",
       "avg / total       0.75      0.67      0.64      4255\n",
       "\n"
      ]
     }
    ],
    "source": [
     "ppc_preds = (Probabilities == np.max(Probabilities, axis=1, keepdims=True))\n",
     "print(classification_report(y_test, ppc_preds))"
    ]
   },
   {
    "cell_type": "code",
    "execution_count": 50,
    "metadata": {},
    "outputs": [],
    "source": [
     "TrainingProbabilities = logit(theano.tensor.dot(x_train,Slopes)+Intercepts).eval()"
    ]
   },
   {
    "cell_type": "code",
    "execution_count": 51,
    "metadata": {},
    "outputs": [
     {
      "name": "stdout",
      "output_type": "stream",
      "text": [
       "             precision    recall  f1-score   support\n",
       "\n",
       "          0       0.85      0.13      0.23      3392\n",
       "          1       0.43      0.84      0.57      3418\n",
       "          2       0.95      0.89      0.92      3398\n",
       "          3       0.84      0.94      0.88      3400\n",
       "          4       0.66      0.54      0.59      3412\n",
       "\n",
       "avg / total       0.74      0.67      0.64     17020\n",
       "\n"
      ]
     }
    ],
    "source": [
     "Training_preds = (TrainingProbabilities == np.max(TrainingProbabilities, axis=1, keepdims=True))\n",
     "print(classification_report(y_train, Training_preds))"
    ]
   },
   {
    "cell_type": "markdown",
    "metadata": {},
    "source": [
     "No Overfitting"
    ]
   },
   {
    "cell_type": "code",
    "execution_count": null,
    "metadata": {},
    "outputs": [
     {
      "name": "stderr",
      "output_type": "stream",
      "text": [
       "Auto-assigning NUTS sampler...\n",
       "Initializing NUTS using jitter+adapt_diag...\n",
       "Multiprocess sampling (2 chains in 2 jobs)\n",
       "NUTS: [Intercepts, Slopes]\n",
       " 21%|██▏       | 319/1500 [35:31<2:11:29,  6.68s/it]"
      ]
     }
    ],
    "source": [
     "X.set_value(x_train)\n",
     "Y.set_value(y_train)\n",
     "with Model:\n",
     "    trace = pm.sample(1000, cores = 4, njobs = 2)"
    ]
   }
  ],
 "metadata": {
  "kernelspec": {
   "display_name": "Python 3",
   "env": {},
   "interrupt_mode": "signal",
   "language": "python",
   "metadata": {},
   "name": "python3"
  },
  "nikola": {
   "category": "",
   "date": "2018-03-16 11:02:34 UTC-07:00",
   "description": "",
   "link": "",
   "slug": "lidar-classification",
   "tags": "",
   "title": "Lidar Classification",
   "type": "text"
  }
 },
 "nbformat": 4,
 "nbformat_minor": 2
}
