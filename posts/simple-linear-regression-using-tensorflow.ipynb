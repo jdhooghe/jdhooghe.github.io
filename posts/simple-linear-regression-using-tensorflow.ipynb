{
  "cells": [
   {
    "cell_type": "code",
    "execution_count": 1,
    "metadata": {
     "scrolled": true
    },
    "outputs": [],
    "source": [
     "import tensorflow as tf\n",
     "import matplotlib.pyplot as plt\n",
     "import pandas as pd\n",
     "import numpy as np"
    ]
   },
   {
    "cell_type": "code",
    "execution_count": 2,
    "metadata": {},
    "outputs": [],
    "source": [
     "#Create a fake data set with slope of 0.5 and y-intercept of 5 with random noise\n",
     "\n",
     "NumberOfDataPoints = 100\n",
     "x_data = np.linspace(0.0, 10., NumberOfDataPoints)\n",
     "Noise = np.random.randn(NumberOfDataPoints)\n",
     "y_True = 0.5*x_data + 5 + Noise\n",
     "\n",
     "x_df = pd.DataFrame(data=x_data, columns = ['x'])\n",
     "y_df = pd.DataFrame(data=y_True, columns = ['y'])\n",
     "Data = pd.concat([x_df, y_df], axis = 1)"
    ]
   },
   {
    "cell_type": "code",
    "execution_count": 3,
    "metadata": {},
    "outputs": [
     {
      "data": {
       "text/plain": [
        "Text(0,0.5,'y')"
       ]
      },
      "execution_count": 3,
      "metadata": {},
      "output_type": "execute_result"
     },
     {
      "data": {
       "image/png": "[encoded data removed]",
       "text/plain": [
        "<matplotlib.figure.Figure at 0x11c2028d0>"
       ]
      },
      "metadata": {},
      "output_type": "display_data"
     }
    ],
    "source": [
     "#Plot the points\n",
     "plt.plot(x_data, y_True, marker = '.', linestyle='None')\n",
     "plt.xlabel(\"x\")\n",
     "plt.ylabel(\"y\")"
    ]
   },
   {
    "cell_type": "code",
    "execution_count": 4,
    "metadata": {},
    "outputs": [],
    "source": [
     "#Create two tensorflow variable placeholders for the data. \n",
     "#We will train with batches so the size is the number of batches\n",
     "Batch_Size = 10\n",
     "\n",
     "m = tf.Variable(0.52)\n",
     "b = tf.Variable(30.)\n",
     "\n",
     "X_Placeholder = tf.placeholder(tf.float32, [Batch_Size])\n",
     "Y_Placeholder = tf.placeholder(tf.float32, [Batch_Size])\n",
     "\n",
     "#Creating the linear fit model\n",
     "Y_Model = m*X_Placeholder + b\n",
     "\n",
     "#Create the cost function\n",
     "Error = tf.reduce_sum(tf.square(Y_Placeholder-Y_Model))\n",
     "#Using a gradient descent optimizer\n",
     "Optimizer = tf.train.GradientDescentOptimizer(learning_rate=0.001)\n",
     "#Inputing the cost function into our optimizer\n",
     "Train = Optimizer.minimize(Error)\n",
     "#Initializing all the variables\n",
     "Init = tf.global_variables_initializer()"
    ]
   },
   {
    "cell_type": "code",
    "execution_count": 5,
    "metadata": {},
    "outputs": [
     {
      "name": "stdout",
      "output_type": "stream",
      "text": [
       "0.5197975 4.8648043\n"
      ]
     }
    ],
    "source": [
     "with tf.Session() as sess:\n",
     "    sess.run(Init)\n",
     "    #We will train for 100000 batches\n",
     "    batches = 100000\n",
     "    for i in range(batches):\n",
     "        #Chosing a random subset of data points\n",
     "        rand_ind = np.random.randint(len(x_data), size=Batch_Size)\n",
     "        #Creating a dictionary of placeholder-data mappings\n",
     "        feed = {X_Placeholder: x_data[rand_ind], Y_Placeholder: y_True[rand_ind]}\n",
     "        #Feeding it into the model\n",
     "        sess.run(Train, feed_dict = feed)\n",
     "\n",
     "    #Get our fit slope and y-intercept result\n",
     "    Model_m, Model_b = sess.run([m, b])\n",
     "\n",
     "print (Model_m, Model_b)"
    ]
   },
   {
    "cell_type": "code",
    "execution_count": 6,
    "metadata": {},
    "outputs": [
     {
      "data": {
       "text/plain": [
        "Text(0,0.5,'y')"
       ]
      },
      "execution_count": 6,
      "metadata": {},
      "output_type": "execute_result"
     },
     {
      "data": {
       "image/png": "[encoded data removed]",
       "text/plain": [
        "<matplotlib.figure.Figure at 0x12525fcc0>"
       ]
      },
      "metadata": {},
      "output_type": "display_data"
     }
    ],
    "source": [
     "#Plotting the fit line and the data\n",
     "plt.plot(x_data, Model_m*x_data + Model_b)\n",
     "plt.plot(x_data, y_True, marker = '.', linestyle='None')\n",
     "plt.xlabel(\"x\")\n",
     "plt.ylabel(\"y\")"
    ]
   }
  ],
 "metadata": {
  "kernelspec": {
   "display_name": "Python 3",
   "env": {},
   "interrupt_mode": "signal",
   "language": "python",
   "metadata": {},
   "name": "python3"
  },
  "nikola": {
   "category": "Regression",
   "date": "2018-02-22 16:48:25 UTC-08:00",
   "description": "",
   "link": "",
   "slug": "simple-linear-regression-using-tensorflow",
   "tags": "Regression",
   "title": "Simple Linear Regression using Tensorflow",
   "type": "text"
  }
 },
 "nbformat": 4,
 "nbformat_minor": 2
}
